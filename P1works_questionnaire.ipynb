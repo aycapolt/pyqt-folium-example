{
  "cells": [
    {
      "cell_type": "markdown",
      "metadata": {
        "id": "view-in-github",
        "colab_type": "text"
      },
      "source": [
        "<a href=\"https://colab.research.google.com/github/aycapolt/pyqt-folium-example/blob/main/P1works_questionnaire.ipynb\" target=\"_parent\"><img src=\"https://colab.research.google.com/assets/colab-badge.svg\" alt=\"Open In Colab\"/></a>"
      ]
    },
    {
      "cell_type": "code",
      "execution_count": null,
      "id": "14401203",
      "metadata": {
        "id": "14401203"
      },
      "outputs": [],
      "source": [
        "import pandas as pd\n",
        "import numpy as np"
      ]
    },
    {
      "cell_type": "code",
      "execution_count": null,
      "id": "3e6f86c8",
      "metadata": {
        "id": "3e6f86c8"
      },
      "outputs": [],
      "source": [
        "df = pd.read_csv(\"country_vaccination_stats.csv\")\n",
        "q1 = df"
      ]
    },
    {
      "cell_type": "code",
      "execution_count": null,
      "id": "6690404a",
      "metadata": {
        "id": "6690404a",
        "outputId": "9536a1c9-20e3-468b-cc4c-38a63e29de01"
      },
      "outputs": [
        {
          "data": {
            "text/html": [
              "<div>\n",
              "<style scoped>\n",
              "    .dataframe tbody tr th:only-of-type {\n",
              "        vertical-align: middle;\n",
              "    }\n",
              "\n",
              "    .dataframe tbody tr th {\n",
              "        vertical-align: top;\n",
              "    }\n",
              "\n",
              "    .dataframe thead th {\n",
              "        text-align: right;\n",
              "    }\n",
              "</style>\n",
              "<table border=\"1\" class=\"dataframe\">\n",
              "  <thead>\n",
              "    <tr style=\"text-align: right;\">\n",
              "      <th></th>\n",
              "      <th>country</th>\n",
              "      <th>date</th>\n",
              "      <th>daily_vaccinations</th>\n",
              "      <th>vaccines</th>\n",
              "    </tr>\n",
              "  </thead>\n",
              "  <tbody>\n",
              "    <tr>\n",
              "      <th>0</th>\n",
              "      <td>Argentina</td>\n",
              "      <td>12/29/2020</td>\n",
              "      <td>NaN</td>\n",
              "      <td>Sputnik V</td>\n",
              "    </tr>\n",
              "    <tr>\n",
              "      <th>1</th>\n",
              "      <td>Argentina</td>\n",
              "      <td>12/30/2020</td>\n",
              "      <td>15656.0</td>\n",
              "      <td>Sputnik V</td>\n",
              "    </tr>\n",
              "    <tr>\n",
              "      <th>2</th>\n",
              "      <td>Argentina</td>\n",
              "      <td>12/31/2020</td>\n",
              "      <td>15656.0</td>\n",
              "      <td>Sputnik V</td>\n",
              "    </tr>\n",
              "    <tr>\n",
              "      <th>3</th>\n",
              "      <td>Argentina</td>\n",
              "      <td>1/1/2021</td>\n",
              "      <td>11070.0</td>\n",
              "      <td>Sputnik V</td>\n",
              "    </tr>\n",
              "    <tr>\n",
              "      <th>4</th>\n",
              "      <td>Argentina</td>\n",
              "      <td>1/2/2021</td>\n",
              "      <td>8776.0</td>\n",
              "      <td>Sputnik V</td>\n",
              "    </tr>\n",
              "  </tbody>\n",
              "</table>\n",
              "</div>"
            ],
            "text/plain": [
              "     country        date  daily_vaccinations   vaccines\n",
              "0  Argentina  12/29/2020                 NaN  Sputnik V\n",
              "1  Argentina  12/30/2020             15656.0  Sputnik V\n",
              "2  Argentina  12/31/2020             15656.0  Sputnik V\n",
              "3  Argentina    1/1/2021             11070.0  Sputnik V\n",
              "4  Argentina    1/2/2021              8776.0  Sputnik V"
            ]
          },
          "execution_count": 21,
          "metadata": {},
          "output_type": "execute_result"
        }
      ],
      "source": [
        "q1.head(5)"
      ]
    },
    {
      "cell_type": "code",
      "execution_count": null,
      "id": "cb63b936",
      "metadata": {
        "id": "cb63b936",
        "outputId": "930eaa2c-48b7-4493-fab3-bcb89c829958"
      },
      "outputs": [
        {
          "data": {
            "text/plain": [
              "array(['Argentina', 'Austria', 'Bahrain', 'Belgium', 'Brazil', 'Bulgaria',\n",
              "       'Canada', 'Chile', 'China', 'Costa Rica', 'Croatia', 'Cyprus',\n",
              "       'Czechia', 'Denmark', 'Ecuador', 'England', 'Estonia', 'Finland',\n",
              "       'France', 'Germany', 'Gibraltar', 'Greece', 'Hungary', 'Iceland',\n",
              "       'India', 'Indonesia', 'Ireland', 'Isle of Man', 'Israel', 'Italy',\n",
              "       'Kuwait', 'Latvia', 'Lithuania', 'Luxembourg', 'Malta', 'Mexico',\n",
              "       'Netherlands', 'Northern Ireland', 'Norway', 'Oman', 'Panama',\n",
              "       'Poland', 'Portugal', 'Romania', 'Russia', 'Saudi Arabia',\n",
              "       'Scotland', 'Serbia', 'Seychelles', 'Singapore', 'Slovakia',\n",
              "       'Slovenia', 'Spain', 'Sweden', 'Switzerland', 'Turkey',\n",
              "       'United Arab Emirates', 'United Kingdom', 'United States', 'Wales'],\n",
              "      dtype=object)"
            ]
          },
          "execution_count": 22,
          "metadata": {},
          "output_type": "execute_result"
        }
      ],
      "source": [
        "q1['country'].unique()"
      ]
    },
    {
      "cell_type": "code",
      "execution_count": null,
      "id": "dade1aae",
      "metadata": {
        "scrolled": true,
        "id": "dade1aae",
        "outputId": "f34dfe00-8eb1-4d3e-d1ab-db763cbcabdf"
      },
      "outputs": [
        {
          "data": {
            "text/plain": [
              "country                0\n",
              "date                   0\n",
              "daily_vaccinations    60\n",
              "vaccines               0\n",
              "dtype: int64"
            ]
          },
          "execution_count": 23,
          "metadata": {},
          "output_type": "execute_result"
        }
      ],
      "source": [
        "q1.isnull().sum()"
      ]
    },
    {
      "cell_type": "markdown",
      "id": "23da35b3",
      "metadata": {
        "id": "23da35b3"
      },
      "source": [
        "## QUESTION 4"
      ]
    },
    {
      "cell_type": "code",
      "execution_count": null,
      "id": "66b02284",
      "metadata": {
        "id": "66b02284"
      },
      "outputs": [],
      "source": [
        "min_vacc = q1.groupby('country')['daily_vaccinations'].transform('min')"
      ]
    },
    {
      "cell_type": "code",
      "execution_count": null,
      "id": "f0bcdfb7",
      "metadata": {
        "id": "f0bcdfb7",
        "outputId": "b418c7f2-5f14-4d10-b25c-17e84636fa48"
      },
      "outputs": [
        {
          "data": {
            "text/plain": [
              "0       6483.0\n",
              "1       6483.0\n",
              "2       6483.0\n",
              "3       6483.0\n",
              "4       6483.0\n",
              "         ...  \n",
              "1497    1763.0\n",
              "1498    1763.0\n",
              "1499    1763.0\n",
              "1500    1763.0\n",
              "1501    1763.0\n",
              "Name: daily_vaccinations, Length: 1502, dtype: float64"
            ]
          },
          "execution_count": 25,
          "metadata": {},
          "output_type": "execute_result"
        }
      ],
      "source": [
        "#Kuwait does not have a valid vaccinations number, so it will be filled with 0s\n",
        "min_vacc"
      ]
    },
    {
      "cell_type": "code",
      "execution_count": null,
      "id": "8a52bc73",
      "metadata": {
        "id": "8a52bc73"
      },
      "outputs": [],
      "source": [
        "# i used lambda but a seperate function could be written and also the apply method would be used\n",
        "q1['daily_vaccinations'] = q1.apply(\n",
        "    lambda row: 0 if pd.isna(row['daily_vaccinations']) and pd.isna(min_vacc[row.name])\n",
        "    else (min_vacc[row.name] if pd.isna(row['daily_vaccinations']) else row['daily_vaccinations']),axis=1\n",
        ")"
      ]
    },
    {
      "cell_type": "code",
      "execution_count": null,
      "id": "21669a0f",
      "metadata": {
        "id": "21669a0f",
        "outputId": "2a904447-3b39-4f4f-8641-5fe2cab4dd1e"
      },
      "outputs": [
        {
          "data": {
            "text/plain": [
              "0       0.0\n",
              "1       0.0\n",
              "2       0.0\n",
              "3       0.0\n",
              "4       0.0\n",
              "       ... \n",
              "1497    0.0\n",
              "1498    0.0\n",
              "1499    0.0\n",
              "1500    0.0\n",
              "1501    0.0\n",
              "Name: daily_vaccinations, Length: 1502, dtype: float64"
            ]
          },
          "execution_count": 27,
          "metadata": {},
          "output_type": "execute_result"
        }
      ],
      "source": [
        "#to see if the lambda function works\n",
        "q1['daily_vaccinations'].where(q1['country'] == 'Kuwait', 0)"
      ]
    },
    {
      "cell_type": "code",
      "execution_count": null,
      "id": "0a3e393d",
      "metadata": {
        "id": "0a3e393d",
        "outputId": "19b51fec-0999-422e-c435-f27d35e55aa8"
      },
      "outputs": [
        {
          "data": {
            "text/html": [
              "<div>\n",
              "<style scoped>\n",
              "    .dataframe tbody tr th:only-of-type {\n",
              "        vertical-align: middle;\n",
              "    }\n",
              "\n",
              "    .dataframe tbody tr th {\n",
              "        vertical-align: top;\n",
              "    }\n",
              "\n",
              "    .dataframe thead th {\n",
              "        text-align: right;\n",
              "    }\n",
              "</style>\n",
              "<table border=\"1\" class=\"dataframe\">\n",
              "  <thead>\n",
              "    <tr style=\"text-align: right;\">\n",
              "      <th></th>\n",
              "      <th>country</th>\n",
              "      <th>date</th>\n",
              "      <th>daily_vaccinations</th>\n",
              "      <th>vaccines</th>\n",
              "    </tr>\n",
              "  </thead>\n",
              "  <tbody>\n",
              "    <tr>\n",
              "      <th>0</th>\n",
              "      <td>Argentina</td>\n",
              "      <td>12/29/2020</td>\n",
              "      <td>6483.0</td>\n",
              "      <td>Sputnik V</td>\n",
              "    </tr>\n",
              "    <tr>\n",
              "      <th>1</th>\n",
              "      <td>Argentina</td>\n",
              "      <td>12/30/2020</td>\n",
              "      <td>15656.0</td>\n",
              "      <td>Sputnik V</td>\n",
              "    </tr>\n",
              "    <tr>\n",
              "      <th>2</th>\n",
              "      <td>Argentina</td>\n",
              "      <td>12/31/2020</td>\n",
              "      <td>15656.0</td>\n",
              "      <td>Sputnik V</td>\n",
              "    </tr>\n",
              "    <tr>\n",
              "      <th>3</th>\n",
              "      <td>Argentina</td>\n",
              "      <td>1/1/2021</td>\n",
              "      <td>11070.0</td>\n",
              "      <td>Sputnik V</td>\n",
              "    </tr>\n",
              "    <tr>\n",
              "      <th>4</th>\n",
              "      <td>Argentina</td>\n",
              "      <td>1/2/2021</td>\n",
              "      <td>8776.0</td>\n",
              "      <td>Sputnik V</td>\n",
              "    </tr>\n",
              "    <tr>\n",
              "      <th>...</th>\n",
              "      <td>...</td>\n",
              "      <td>...</td>\n",
              "      <td>...</td>\n",
              "      <td>...</td>\n",
              "    </tr>\n",
              "    <tr>\n",
              "      <th>1497</th>\n",
              "      <td>Wales</td>\n",
              "      <td>1/20/2021</td>\n",
              "      <td>11105.0</td>\n",
              "      <td>Oxford/AstraZeneca, Pfizer/BioNTech</td>\n",
              "    </tr>\n",
              "    <tr>\n",
              "      <th>1498</th>\n",
              "      <td>Wales</td>\n",
              "      <td>1/21/2021</td>\n",
              "      <td>12318.0</td>\n",
              "      <td>Oxford/AstraZeneca, Pfizer/BioNTech</td>\n",
              "    </tr>\n",
              "    <tr>\n",
              "      <th>1499</th>\n",
              "      <td>Wales</td>\n",
              "      <td>1/22/2021</td>\n",
              "      <td>15148.0</td>\n",
              "      <td>Oxford/AstraZeneca, Pfizer/BioNTech</td>\n",
              "    </tr>\n",
              "    <tr>\n",
              "      <th>1500</th>\n",
              "      <td>Wales</td>\n",
              "      <td>1/23/2021</td>\n",
              "      <td>17371.0</td>\n",
              "      <td>Oxford/AstraZeneca, Pfizer/BioNTech</td>\n",
              "    </tr>\n",
              "    <tr>\n",
              "      <th>1501</th>\n",
              "      <td>Wales</td>\n",
              "      <td>1/24/2021</td>\n",
              "      <td>17063.0</td>\n",
              "      <td>Oxford/AstraZeneca, Pfizer/BioNTech</td>\n",
              "    </tr>\n",
              "  </tbody>\n",
              "</table>\n",
              "<p>1502 rows × 4 columns</p>\n",
              "</div>"
            ],
            "text/plain": [
              "        country        date  daily_vaccinations  \\\n",
              "0     Argentina  12/29/2020              6483.0   \n",
              "1     Argentina  12/30/2020             15656.0   \n",
              "2     Argentina  12/31/2020             15656.0   \n",
              "3     Argentina    1/1/2021             11070.0   \n",
              "4     Argentina    1/2/2021              8776.0   \n",
              "...         ...         ...                 ...   \n",
              "1497      Wales   1/20/2021             11105.0   \n",
              "1498      Wales   1/21/2021             12318.0   \n",
              "1499      Wales   1/22/2021             15148.0   \n",
              "1500      Wales   1/23/2021             17371.0   \n",
              "1501      Wales   1/24/2021             17063.0   \n",
              "\n",
              "                                 vaccines  \n",
              "0                               Sputnik V  \n",
              "1                               Sputnik V  \n",
              "2                               Sputnik V  \n",
              "3                               Sputnik V  \n",
              "4                               Sputnik V  \n",
              "...                                   ...  \n",
              "1497  Oxford/AstraZeneca, Pfizer/BioNTech  \n",
              "1498  Oxford/AstraZeneca, Pfizer/BioNTech  \n",
              "1499  Oxford/AstraZeneca, Pfizer/BioNTech  \n",
              "1500  Oxford/AstraZeneca, Pfizer/BioNTech  \n",
              "1501  Oxford/AstraZeneca, Pfizer/BioNTech  \n",
              "\n",
              "[1502 rows x 4 columns]"
            ]
          },
          "execution_count": 28,
          "metadata": {},
          "output_type": "execute_result"
        }
      ],
      "source": [
        "q1"
      ]
    },
    {
      "cell_type": "markdown",
      "id": "8c21a9df",
      "metadata": {
        "id": "8c21a9df"
      },
      "source": [
        "## QUESTION 5"
      ]
    },
    {
      "cell_type": "markdown",
      "id": "65c0d158",
      "metadata": {
        "id": "65c0d158"
      },
      "source": [
        "### the question is same as the question 4, so i skip this part"
      ]
    },
    {
      "cell_type": "markdown",
      "id": "743c25e2",
      "metadata": {
        "id": "743c25e2"
      },
      "source": [
        "## QUESTION 6"
      ]
    },
    {
      "cell_type": "code",
      "execution_count": null,
      "id": "0c6563ba",
      "metadata": {
        "id": "0c6563ba"
      },
      "outputs": [],
      "source": [
        "q2 = df"
      ]
    },
    {
      "cell_type": "code",
      "execution_count": null,
      "id": "6ba463d6",
      "metadata": {
        "id": "6ba463d6"
      },
      "outputs": [],
      "source": [
        "median = q2.groupby('country')['daily_vaccinations'].median()"
      ]
    },
    {
      "cell_type": "code",
      "execution_count": null,
      "id": "f61ec510",
      "metadata": {
        "id": "f61ec510"
      },
      "outputs": [],
      "source": [
        "median3 = median.sort_values(ascending=False).head(3)"
      ]
    },
    {
      "cell_type": "code",
      "execution_count": null,
      "id": "73fda3c5",
      "metadata": {
        "id": "73fda3c5",
        "outputId": "8a90487d-e658-4cb4-d03b-1af2849a2641"
      },
      "outputs": [
        {
          "data": {
            "text/plain": [
              "country\n",
              "United States    399093.0\n",
              "China            299107.5\n",
              "India            182551.5\n",
              "Name: daily_vaccinations, dtype: float64"
            ]
          },
          "execution_count": 36,
          "metadata": {},
          "output_type": "execute_result"
        }
      ],
      "source": [
        "#top 3 countries with highest medians are listed below\n",
        "median3"
      ]
    },
    {
      "cell_type": "markdown",
      "id": "4507fc50",
      "metadata": {
        "id": "4507fc50"
      },
      "source": [
        "## QUESTION 7"
      ]
    },
    {
      "cell_type": "code",
      "execution_count": null,
      "id": "d3e37daf",
      "metadata": {
        "id": "d3e37daf"
      },
      "outputs": [],
      "source": [
        "q3 = df"
      ]
    },
    {
      "cell_type": "code",
      "execution_count": null,
      "id": "0b29425a",
      "metadata": {
        "id": "0b29425a",
        "outputId": "db63c122-affa-4e63-89f1-d1536cf726dd"
      },
      "outputs": [
        {
          "data": {
            "text/plain": [
              "1466568.0"
            ]
          },
          "execution_count": 38,
          "metadata": {},
          "output_type": "execute_result"
        }
      ],
      "source": [
        "q3['daily_vaccinations'].where(q3['date'] == '1/6/2021').sum()"
      ]
    },
    {
      "cell_type": "code",
      "execution_count": null,
      "id": "32352857",
      "metadata": {
        "id": "32352857"
      },
      "outputs": [],
      "source": []
    }
  ],
  "metadata": {
    "kernelspec": {
      "display_name": "Python 3 (ipykernel)",
      "language": "python",
      "name": "python3"
    },
    "language_info": {
      "codemirror_mode": {
        "name": "ipython",
        "version": 3
      },
      "file_extension": ".py",
      "mimetype": "text/x-python",
      "name": "python",
      "nbconvert_exporter": "python",
      "pygments_lexer": "ipython3",
      "version": "3.11.3"
    },
    "colab": {
      "provenance": [],
      "include_colab_link": true
    }
  },
  "nbformat": 4,
  "nbformat_minor": 5
}